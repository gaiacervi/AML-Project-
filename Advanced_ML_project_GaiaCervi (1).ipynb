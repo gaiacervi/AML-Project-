{
  "nbformat": 4,
  "nbformat_minor": 0,
  "metadata": {
    "accelerator": "GPU",
    "colab": {
      "name": "Advanced_ML_project_GaiaCervi.ipynb",
      "provenance": [],
      "collapsed_sections": []
    },
    "kernelspec": {
      "display_name": "Python 3",
      "language": "python",
      "name": "python3"
    },
    "toc": {
      "base_numbering": 1,
      "nav_menu": {},
      "number_sections": true,
      "sideBar": true,
      "skip_h1_title": false,
      "title_cell": "Table of Contents",
      "title_sidebar": "Contents",
      "toc_cell": false,
      "toc_position": {},
      "toc_section_display": true,
      "toc_window_display": false
    },
    "varInspector": {
      "cols": {
        "lenName": 16,
        "lenType": 16,
        "lenVar": 40
      },
      "kernels_config": {
        "python": {
          "delete_cmd_postfix": "",
          "delete_cmd_prefix": "del ",
          "library": "var_list.py",
          "varRefreshCmd": "print(var_dic_list())"
        },
        "r": {
          "delete_cmd_postfix": ") ",
          "delete_cmd_prefix": "rm(",
          "library": "var_list.r",
          "varRefreshCmd": "cat(var_dic_list()) "
        }
      },
      "types_to_exclude": [
        "module",
        "function",
        "builtin_function_or_method",
        "instance",
        "_Feature"
      ],
      "window_display": false
    }
  },
  "cells": [
    {
      "cell_type": "markdown",
      "metadata": {
        "id": "VG-lKi9kzo7N"
      },
      "source": [
        "**Applied Machine Learning - MNIST Project**\n",
        "---\n",
        "##University of Bologna - Italy\n",
        "\n",
        "##Bioinformatics\n",
        "\n",
        "*Gaia Cervi*\n",
        "\n",
        "---"
      ]
    },
    {
      "cell_type": "markdown",
      "metadata": {
        "ExecuteTime": {
          "end_time": "2021-07-04T13:47:41.616538Z",
          "start_time": "2021-07-04T13:47:41.594195Z"
        },
        "id": "4ThLg7aCzo7a"
      },
      "source": [
        "**MNIST database** (*Modified National Institute of Standards and Technology database*)  is a large database of handwritten digits (0 to 9) that is commonly used for training various image processing systems. The database contains 60,000 training images and 10,000 testing images each of size 28x28.  \n",
        "\n",
        "##**Aim of the project**\n",
        "The goal of this project is to produce different Machine Learning models and to evaluate/compare their performance. I focused on:\n",
        "- Decision Tree\n",
        "- Random Forest\n",
        "- Extremely Randomized Tree\n",
        "- Support Vector Machines\n",
        "- Convolutional Neural Networks\n"
      ]
    },
    {
      "cell_type": "markdown",
      "metadata": {
        "id": "AuuTgtyN0F6-"
      },
      "source": [
        "## Import Modules"
      ]
    },
    {
      "cell_type": "code",
      "metadata": {
        "ExecuteTime": {
          "end_time": "2021-07-11T10:43:24.819581Z",
          "start_time": "2021-07-11T10:43:23.435122Z"
        },
        "id": "EHRduHEWtXEb"
      },
      "source": [
        "import sklearn\n",
        "from sklearn import metrics\n",
        "import numpy as np \n",
        "import matplotlib as mpl\n",
        "import matplotlib.pyplot as plt\n",
        "import seaborn as sns \n",
        "import pandas as pd"
      ],
      "execution_count": null,
      "outputs": []
    },
    {
      "cell_type": "markdown",
      "metadata": {
        "id": "Ib8rLZK1zo7g"
      },
      "source": [
        "## Import MNIST dataset and Data preparation\n",
        "---\n",
        "The MNIST dataset can be easily loaded from *Keras library*. \n",
        "\n",
        "When we load the dataset:\n",
        "- *X_train* and *y_train* contain all the training examples and the relative labels.\n",
        "- *X_test* and *y_test* contain all the testing examples and associated labels. \n",
        "\n",
        "\n"
      ]
    },
    {
      "cell_type": "code",
      "metadata": {
        "ExecuteTime": {
          "end_time": "2021-07-11T10:43:27.334791Z",
          "start_time": "2021-07-11T10:43:24.851524Z"
        },
        "id": "nZpXKk3ltXEi"
      },
      "source": [
        "import tensorflow as tf\n",
        "mnist = tf.keras.datasets.mnist\n",
        "(X_train, y_train), (X_test, y_test) = mnist.load_data()"
      ],
      "execution_count": null,
      "outputs": []
    },
    {
      "cell_type": "code",
      "metadata": {
        "ExecuteTime": {
          "end_time": "2021-07-11T10:43:27.382694Z",
          "start_time": "2021-07-11T10:43:27.367707Z"
        },
        "colab": {
          "base_uri": "https://localhost:8080/"
        },
        "id": "wD58gQUltXEl",
        "outputId": "7be6f894-27e1-49fc-e353-5aac2ce3ee20"
      },
      "source": [
        "X_train.shape"
      ],
      "execution_count": null,
      "outputs": [
        {
          "output_type": "execute_result",
          "data": {
            "text/plain": [
              "(60000, 28, 28)"
            ]
          },
          "metadata": {
            "tags": []
          },
          "execution_count": 4
        }
      ]
    },
    {
      "cell_type": "code",
      "metadata": {
        "ExecuteTime": {
          "end_time": "2021-07-11T10:43:27.430595Z",
          "start_time": "2021-07-11T10:43:27.415631Z"
        },
        "colab": {
          "base_uri": "https://localhost:8080/"
        },
        "id": "kP5tHumZtXEr",
        "outputId": "d52c5fac-eb31-423a-fb68-fd8803301cd0"
      },
      "source": [
        "X_test.shape"
      ],
      "execution_count": null,
      "outputs": [
        {
          "output_type": "execute_result",
          "data": {
            "text/plain": [
              "(10000, 28, 28)"
            ]
          },
          "metadata": {
            "tags": []
          },
          "execution_count": 5
        }
      ]
    },
    {
      "cell_type": "code",
      "metadata": {
        "ExecuteTime": {
          "end_time": "2021-07-11T10:43:27.478563Z",
          "start_time": "2021-07-11T10:43:27.463573Z"
        },
        "colab": {
          "base_uri": "https://localhost:8080/"
        },
        "id": "ccxQTjOCtXE7",
        "outputId": "965f2d46-2abb-4c79-e8ed-6bb8b84b3521"
      },
      "source": [
        "print('X_test_type: ', X_test.dtype)\n",
        "print('y_test_type: ', y_test.dtype)"
      ],
      "execution_count": null,
      "outputs": [
        {
          "output_type": "stream",
          "text": [
            "X_test_type:  uint8\n",
            "y_test_type:  uint8\n"
          ],
          "name": "stdout"
        }
      ]
    },
    {
      "cell_type": "markdown",
      "metadata": {
        "id": "LpkdSStHzo7v"
      },
      "source": [
        "### Display the first 10 digits of the training set "
      ]
    },
    {
      "cell_type": "code",
      "metadata": {
        "ExecuteTime": {
          "end_time": "2021-07-11T10:43:28.134401Z",
          "start_time": "2021-07-11T10:43:27.804491Z"
        },
        "colab": {
          "base_uri": "https://localhost:8080/",
          "height": 291
        },
        "id": "Yxbx_9Z7tXE-",
        "outputId": "7532f386-e2af-48c0-f70a-c6b735bb6a00"
      },
      "source": [
        "num_row = 2\n",
        "num_col = 5 \n",
        "fig, axes = plt.subplots(num_row,num_col,figsize = (10,5))\n",
        "\n",
        "for i in range(num_row*num_col):\n",
        "    digit = X_train[i]\n",
        "    ### reshaping the numpy array of 784 elements into a matrix 28X28\n",
        "    digit_image = np.reshape(digit,(28,28)) \n",
        "    ax = axes[i//num_col, i%num_col]\n",
        "    ax.imshow(digit_image, cmap = 'binary', interpolation = 'nearest')\n",
        "    ax.set_title(label = 'Label: {}'.format(y_train[i]))\n",
        "    ax.axis('off')\n",
        "plt.show()\n"
      ],
      "execution_count": null,
      "outputs": [
        {
          "output_type": "display_data",
          "data": {
            "image/png": "[encoded data removed]",
            "text/plain": [
              "<Figure size 720x360 with 10 Axes>"
            ]
          },
          "metadata": {
            "tags": [],
            "needs_background": "light"
          }
        }
      ]
    },
    {
      "cell_type": "markdown",
      "metadata": {
        "id": "BtD0qDlzzo7y"
      },
      "source": [
        "#### Plot of the distribution of classes across the training dataset."
      ]
    },
    {
      "cell_type": "code",
      "metadata": {
        "ExecuteTime": {
          "end_time": "2021-07-11T10:43:33.393886Z",
          "start_time": "2021-07-11T10:43:33.235495Z"
        },
        "colab": {
          "base_uri": "https://localhost:8080/",
          "height": 353
        },
        "id": "MsLdLF3Lzo70",
        "outputId": "435e15ed-4b15-4e32-dee9-d691df9c05e4"
      },
      "source": [
        "sns.countplot(np.sort(y_train))\n",
        "plt.title('Distribution of classes across the MNIST dataset - training')\n"
      ],
      "execution_count": null,
      "outputs": [
        {
          "output_type": "stream",
          "text": [
            "C:\\Users\\david\\anaconda3\\envs\\AML\\lib\\site-packages\\seaborn\\_decorators.py:36: FutureWarning: Pass the following variable as a keyword arg: x. From version 0.12, the only valid positional argument will be `data`, and passing other arguments without an explicit keyword will result in an error or misinterpretation.\n",
            "  warnings.warn(\n"
          ],
          "name": "stderr"
        },
        {
          "output_type": "execute_result",
          "data": {
            "text/plain": [
              "Text(0.5, 1.0, 'Distribution of classes across the MNIST dataset - training')"
            ]
          },
          "metadata": {
            "tags": []
          },
          "execution_count": 8
        },
        {
          "output_type": "display_data",
          "data": {
            "image/png": "[encoded data removed]",
            "text/plain": [
              "<Figure size 432x288 with 1 Axes>"
            ]
          },
          "metadata": {
            "tags": [],
            "needs_background": "light"
          }
        }
      ]
    },
    {
      "cell_type": "markdown",
      "metadata": {
        "id": "Pf5tJyvt45fD"
      },
      "source": [
        "From the above graph, we can see that all classes are present in almost equal amount around 6000 examples. Worth to be noticed is that class 1 is the most present, whereas class 5 is the least present. "
      ]
    },
    {
      "cell_type": "markdown",
      "metadata": {
        "id": "-MYY-7ljzo72"
      },
      "source": [
        "#### Plot the distribution of classes among the training and testing datasets.  "
      ]
    },
    {
      "cell_type": "code",
      "metadata": {
        "ExecuteTime": {
          "end_time": "2021-07-11T10:52:18.427729Z",
          "start_time": "2021-07-11T10:52:18.394816Z"
        },
        "id": "MaQfMgbhzo73"
      },
      "source": [
        "# Define a function which takes in input the training or testing labels (y) and the total number of examples (tot) and returns a dictionary with the counts for each class.  \n",
        "\n",
        "def table(y,tot):\n",
        "    d = {}\n",
        "    for label in y: \n",
        "        if label not in d.keys():\n",
        "            d[label] = 1 \n",
        "        else: \n",
        "            d[label] += 1 \n",
        "    for key in d.keys():\n",
        "        d[key] = d[key] / tot\n",
        "    return d\n",
        "\n",
        "train = table(np.sort(y_train),60000)  \n",
        "test = table(np.sort(y_test),10000)"
      ],
      "execution_count": null,
      "outputs": []
    },
    {
      "cell_type": "code",
      "metadata": {
        "ExecuteTime": {
          "end_time": "2021-07-11T10:52:18.821913Z",
          "start_time": "2021-07-11T10:52:18.797977Z"
        },
        "id": "xb24jJRQzo76"
      },
      "source": [
        "# Convert the dictionaries into pandas dataframes which are concantenate into a single one for both training and test set.\n",
        "train_df = pd.DataFrame(list(train.items()), columns = ['label','value'])       \n",
        "train_df['variable'] = 'train'\n",
        "test_df = pd.DataFrame(list(test.items()), columns = ['label','value'])       \n",
        "test_df['variable'] = 'test'\n",
        "\n",
        "dataframe = pd.concat([train_df,test_df])\n"
      ],
      "execution_count": null,
      "outputs": []
    },
    {
      "cell_type": "code",
      "metadata": {
        "ExecuteTime": {
          "end_time": "2021-07-11T10:52:19.403252Z",
          "start_time": "2021-07-11T10:52:19.138842Z"
        },
        "colab": {
          "base_uri": "https://localhost:8080/",
          "height": 367
        },
        "id": "jQHQo5c7zo78",
        "outputId": "6b255277-e80f-4989-d4a8-55df28e9491f"
      },
      "source": [
        "# Plot\n",
        "plt.figure(figsize = (10,5))\n",
        "sns.barplot(x = 'label', y = 'value', hue = 'variable', data = dataframe)\n",
        "\n",
        "plt.title('Frequency distribution of labels across train and test splits')"
      ],
      "execution_count": null,
      "outputs": [
        {
          "output_type": "execute_result",
          "data": {
            "text/plain": [
              "Text(0.5, 1.0, 'Frequency distribution of labels across train and test splits')"
            ]
          },
          "metadata": {
            "tags": []
          },
          "execution_count": 24
        },
        {
          "output_type": "display_data",
          "data": {
            "image/png": "[encoded data removed]",
            "text/plain": [
              "<Figure size 720x360 with 1 Axes>"
            ]
          },
          "metadata": {
            "tags": [],
            "needs_background": "light"
          }
        }
      ]
    },
    {
      "cell_type": "markdown",
      "metadata": {
        "id": "y9kPuAyZzo79"
      },
      "source": [
        "From the above graph, we can see that the distribution of classes between the training and testing set is very similar. Therefore, the two datasets are balanced.  "
      ]
    },
    {
      "cell_type": "markdown",
      "metadata": {
        "id": "Xq1G5gNPtXFD"
      },
      "source": [
        "## 1. Decision Trees\n",
        "---\n",
        "A ***decision tree*** is a supervised ML learning method used for both classification and regression problems. The goal is to create a model that predicts the value of a target variable by learning simple decision rules inferred from the data features. \n",
        "\n",
        "Each internal nodes represent the features of a dataset, branches represent the decision rules and each leaf node represents the outcome. \n"
      ]
    },
    {
      "cell_type": "code",
      "metadata": {
        "ExecuteTime": {
          "end_time": "2021-07-11T10:52:20.242697Z",
          "start_time": "2021-07-11T10:52:20.124014Z"
        },
        "id": "xMr3jIhTtXFD"
      },
      "source": [
        "from sklearn.tree import DecisionTreeClassifier \n",
        "from sklearn.model_selection import GridSearchCV\n",
        "from sklearn.metrics import confusion_matrix,plot_confusion_matrix,classification_report,accuracy_score  "
      ],
      "execution_count": null,
      "outputs": []
    },
    {
      "cell_type": "markdown",
      "metadata": {
        "id": "VMDQYkUezo8F"
      },
      "source": [
        "### Grid Search on a DecisionTreeClassifier\n",
        "\n",
        "I previously run a decision tree without restricting the value of max_depth value. The tree was grown till all leaves were pure. The max_depth value of the given tree was 50. Therefore I decided to perform a grid search to see whether by restricting the max_depth and min_sample leaf values the model generalizes better.\n",
        "***min_sample_leaf***: minimum number of samples required to be a leaf node. The algorithm keeps splitting data only if both the left and right branches have at least a number of examples >= min_sample_leaf.  \n",
        "***max_depth_value*** : maximum depth of the tree.\n",
        "The grid search was done by using ***GridSearchCV*** from *sklearn*.\n",
        "\n",
        "- ***max_depth value*** = 10,20,30,40,50 \n",
        "and \n",
        "- ***min_sample_leaf*** =  1,0.1%"
      ]
    },
    {
      "cell_type": "code",
      "metadata": {
        "ExecuteTime": {
          "end_time": "2021-07-11T10:52:20.635763Z",
          "start_time": "2021-07-11T10:52:20.631774Z"
        },
        "id": "BobdnIMItXFM"
      },
      "source": [
        "tree_clf = DecisionTreeClassifier()\n",
        "grid_search_clf = GridSearchCV(tree_clf, \n",
        "                               param_grid = {'max_depth':[10,20,30,40,50],'min_samples_leaf':[1,0.01]}) "
      ],
      "execution_count": null,
      "outputs": []
    },
    {
      "cell_type": "code",
      "metadata": {
        "ExecuteTime": {
          "end_time": "2021-07-11T10:52:20.888436Z",
          "start_time": "2021-07-11T10:52:20.860128Z"
        },
        "id": "xOpL66i5A46x"
      },
      "source": [
        "#reshaping data\n",
        "X_train = X_train.flatten().reshape(60000,784)\n",
        "X_test = X_test.flatten().reshape(10000,784)"
      ],
      "execution_count": null,
      "outputs": []
    },
    {
      "cell_type": "code",
      "metadata": {
        "ExecuteTime": {
          "end_time": "2021-07-11T10:58:59.607449Z",
          "start_time": "2021-07-11T10:52:21.048993Z"
        },
        "colab": {
          "base_uri": "https://localhost:8080/"
        },
        "id": "FtiWOcR0tXFM",
        "outputId": "44cee511-6f9a-44b6-e594-523457955f46"
      },
      "source": [
        "grid_search_clf.fit(X_train,y_train)"
      ],
      "execution_count": null,
      "outputs": [
        {
          "output_type": "execute_result",
          "data": {
            "text/plain": [
              "GridSearchCV(estimator=DecisionTreeClassifier(),\n",
              "             param_grid={'max_depth': [10, 20, 30, 40, 50],\n",
              "                         'min_samples_leaf': [1, 0.01]})"
            ]
          },
          "metadata": {
            "tags": []
          },
          "execution_count": 28
        }
      ]
    },
    {
      "cell_type": "code",
      "metadata": {
        "ExecuteTime": {
          "end_time": "2021-07-11T10:58:59.716432Z",
          "start_time": "2021-07-11T10:58:59.671159Z"
        },
        "colab": {
          "base_uri": "https://localhost:8080/",
          "height": 379
        },
        "id": "Hhq6aG1JtXFN",
        "outputId": "130cd17f-01b8-4156-837c-d287aa61ee9a"
      },
      "source": [
        "cv_results_tree = pd.DataFrame(grid_search_clf.cv_results_)\n",
        "pd.pivot_table(cv_results_tree, \n",
        "               index = ['param_max_depth','param_min_samples_leaf'], \n",
        "               values = ['mean_test_score','std_test_score','rank_test_score'])"
      ],
      "execution_count": null,
      "outputs": [
        {
          "output_type": "execute_result",
          "data": {
            "text/html": [
              "<div>\n",
              "<style scoped>\n",
              "    .dataframe tbody tr th:only-of-type {\n",
              "        vertical-align: middle;\n",
              "    }\n",
              "\n",
              "    .dataframe tbody tr th {\n",
              "        vertical-align: top;\n",
              "    }\n",
              "\n",
              "    .dataframe thead th {\n",
              "        text-align: right;\n",
              "    }\n",
              "</style>\n",
              "<table border=\"1\" class=\"dataframe\">\n",
              "  <thead>\n",
              "    <tr style=\"text-align: right;\">\n",
              "      <th></th>\n",
              "      <th></th>\n",
              "      <th>mean_test_score</th>\n",
              "      <th>rank_test_score</th>\n",
              "      <th>std_test_score</th>\n",
              "    </tr>\n",
              "    <tr>\n",
              "      <th>param_max_depth</th>\n",
              "      <th>param_min_samples_leaf</th>\n",
              "      <th></th>\n",
              "      <th></th>\n",
              "      <th></th>\n",
              "    </tr>\n",
              "  </thead>\n",
              "  <tbody>\n",
              "    <tr>\n",
              "      <th rowspan=\"2\" valign=\"top\">10</th>\n",
              "      <th>0.01</th>\n",
              "      <td>0.698333</td>\n",
              "      <td>6</td>\n",
              "      <td>0.019573</td>\n",
              "    </tr>\n",
              "    <tr>\n",
              "      <th>1.00</th>\n",
              "      <td>0.849250</td>\n",
              "      <td>5</td>\n",
              "      <td>0.007257</td>\n",
              "    </tr>\n",
              "    <tr>\n",
              "      <th rowspan=\"2\" valign=\"top\">20</th>\n",
              "      <th>0.01</th>\n",
              "      <td>0.698333</td>\n",
              "      <td>6</td>\n",
              "      <td>0.019573</td>\n",
              "    </tr>\n",
              "    <tr>\n",
              "      <th>1.00</th>\n",
              "      <td>0.869167</td>\n",
              "      <td>1</td>\n",
              "      <td>0.007281</td>\n",
              "    </tr>\n",
              "    <tr>\n",
              "      <th rowspan=\"2\" valign=\"top\">30</th>\n",
              "      <th>0.01</th>\n",
              "      <td>0.698333</td>\n",
              "      <td>6</td>\n",
              "      <td>0.019573</td>\n",
              "    </tr>\n",
              "    <tr>\n",
              "      <th>1.00</th>\n",
              "      <td>0.867283</td>\n",
              "      <td>2</td>\n",
              "      <td>0.006991</td>\n",
              "    </tr>\n",
              "    <tr>\n",
              "      <th rowspan=\"2\" valign=\"top\">40</th>\n",
              "      <th>0.01</th>\n",
              "      <td>0.698333</td>\n",
              "      <td>6</td>\n",
              "      <td>0.019573</td>\n",
              "    </tr>\n",
              "    <tr>\n",
              "      <th>1.00</th>\n",
              "      <td>0.867267</td>\n",
              "      <td>3</td>\n",
              "      <td>0.006957</td>\n",
              "    </tr>\n",
              "    <tr>\n",
              "      <th rowspan=\"2\" valign=\"top\">50</th>\n",
              "      <th>0.01</th>\n",
              "      <td>0.698333</td>\n",
              "      <td>6</td>\n",
              "      <td>0.019573</td>\n",
              "    </tr>\n",
              "    <tr>\n",
              "      <th>1.00</th>\n",
              "      <td>0.866317</td>\n",
              "      <td>4</td>\n",
              "      <td>0.007445</td>\n",
              "    </tr>\n",
              "  </tbody>\n",
              "</table>\n",
              "</div>"
            ],
            "text/plain": [
              "                                        mean_test_score  rank_test_score  \\\n",
              "param_max_depth param_min_samples_leaf                                     \n",
              "10              0.01                           0.698333                6   \n",
              "                1.00                           0.849250                5   \n",
              "20              0.01                           0.698333                6   \n",
              "                1.00                           0.869167                1   \n",
              "30              0.01                           0.698333                6   \n",
              "                1.00                           0.867283                2   \n",
              "40              0.01                           0.698333                6   \n",
              "                1.00                           0.867267                3   \n",
              "50              0.01                           0.698333                6   \n",
              "                1.00                           0.866317                4   \n",
              "\n",
              "                                        std_test_score  \n",
              "param_max_depth param_min_samples_leaf                  \n",
              "10              0.01                          0.019573  \n",
              "                1.00                          0.007257  \n",
              "20              0.01                          0.019573  \n",
              "                1.00                          0.007281  \n",
              "30              0.01                          0.019573  \n",
              "                1.00                          0.006991  \n",
              "40              0.01                          0.019573  \n",
              "                1.00                          0.006957  \n",
              "50              0.01                          0.019573  \n",
              "                1.00                          0.007445  "
            ]
          },
          "metadata": {
            "tags": []
          },
          "execution_count": 29
        }
      ]
    },
    {
      "cell_type": "markdown",
      "metadata": {
        "id": "xW9e8uM-zo8M"
      },
      "source": [
        "The score indicated as mean_test_score is the multiclass accuracy.The best performance is reached for \n",
        "- ***max_depth = 20*** and\n",
        "-***min_sample_leaf = 1***.\n",
        "We can see that for all Max_depth options, when the min_samples_leaf was constrained to 0.1% the performance decreased significantly.\n",
        "\n"
      ]
    },
    {
      "cell_type": "markdown",
      "metadata": {
        "id": "FChIDc0xzo8O"
      },
      "source": [
        "#### Model testing on the left-out data\n",
        "By default, the best estimator is refitted on the whole training set and the model can be used to make predictions on the test set."
      ]
    },
    {
      "cell_type": "code",
      "metadata": {
        "ExecuteTime": {
          "end_time": "2021-07-11T10:58:59.827197Z",
          "start_time": "2021-07-11T10:58:59.780172Z"
        },
        "colab": {
          "base_uri": "https://localhost:8080/"
        },
        "id": "nM4TDiEVtXFN",
        "scrolled": true,
        "outputId": "cf94660e-4686-4358-8975-d5565686e4bf"
      },
      "source": [
        "pred_optimized = grid_search_clf.best_estimator_.predict(X_test)\n",
        "print(classification_report(y_test,pred_optimized))\n",
        "\n",
        "accuracy_tree= accuracy_score(y_test,pred_optimized)\n",
        "print(\"Accuracy:\", accuracy_tree)"
      ],
      "execution_count": null,
      "outputs": [
        {
          "output_type": "stream",
          "text": [
            "              precision    recall  f1-score   support\n",
            "\n",
            "           0       0.92      0.93      0.93       980\n",
            "           1       0.95      0.96      0.96      1135\n",
            "           2       0.86      0.85      0.86      1032\n",
            "           3       0.83      0.85      0.84      1010\n",
            "           4       0.88      0.88      0.88       982\n",
            "           5       0.84      0.84      0.84       892\n",
            "           6       0.89      0.89      0.89       958\n",
            "           7       0.91      0.91      0.91      1028\n",
            "           8       0.84      0.80      0.82       974\n",
            "           9       0.84      0.85      0.85      1009\n",
            "\n",
            "    accuracy                           0.88     10000\n",
            "   macro avg       0.88      0.88      0.88     10000\n",
            "weighted avg       0.88      0.88      0.88     10000\n",
            "\n",
            "Accuracy: 0.8799\n"
          ],
          "name": "stdout"
        }
      ]
    },
    {
      "cell_type": "markdown",
      "metadata": {
        "id": "8KQAaU9aFaWK"
      },
      "source": [
        "As in the data exploration section, it has been checked  that both training and testing sets are balanced in terms of number of examples per class, there is no need to normalize the confusion matrix across rows. "
      ]
    },
    {
      "cell_type": "code",
      "metadata": {
        "ExecuteTime": {
          "end_time": "2021-07-11T10:59:00.759120Z",
          "start_time": "2021-07-11T10:58:59.891156Z"
        },
        "colab": {
          "base_uri": "https://localhost:8080/",
          "height": 298
        },
        "id": "SXMNXiyptXFT",
        "outputId": "e77d66c1-9090-49ad-c054-5ea7f1c5a3a0"
      },
      "source": [
        "tree_matrix = confusion_matrix(y_test, pred_optimized)\n",
        "\n",
        "### Transform the values in percentages \n",
        "percentages = tree_matrix/tree_matrix.sum(axis=0)*100\n",
        "\n",
        "t = sns.heatmap(percentages, annot=True, cmap=\"rocket_r\")\n",
        "plt.title(\"Confusion Matrix - Decision Tree\")"
      ],
      "execution_count": null,
      "outputs": [
        {
          "output_type": "execute_result",
          "data": {
            "text/plain": [
              "Text(0.5, 1.0, 'Confusion Matrix - Decision Tree')"
            ]
          },
          "metadata": {
            "tags": []
          },
          "execution_count": 31
        },
        {
          "output_type": "display_data",
          "data": {
            "image/png": "[encoded data removed]",
            "text/plain": [
              "<Figure size 432x288 with 2 Axes>"
            ]
          },
          "metadata": {
            "tags": [],
            "needs_background": "light"
          }
        }
      ]
    },
    {
      "cell_type": "markdown",
      "metadata": {
        "id": "XanPadM2zo8S"
      },
      "source": [
        "From the graph above, it can be seen that most of the true labels are correctly predicted. The highest percentage of misclassification is seen for class 9 and 4: \n",
        "- in 4.4% of cases number 4 is predicted as 9 and \n",
        "- in 4% of cases number 9 is seen as 4.\n",
        "\n",
        "The second highest error percentage involves number 3 and 5:\n",
        "- in 3.9% of cases number 3 is predicted as 5,\n",
        "- in 3.7% of cases number 5 is seen as 3.\n",
        "\n",
        "This is probably due to the fact that these four digits appear to be similar, so they may be hard to be recognized by the model. In fact it is very rare that a digit like \"0\" is predicted as \"1\", since their representations are totally different. The number which is correctly predicted the most is 1 with 95% of correct predictions.\n",
        "\n",
        "\n",
        "The accuracy reached with this method is equal to 88%, which is not a bad result but we will see now other approaches that will significantly increase the performance."
      ]
    },
    {
      "cell_type": "markdown",
      "metadata": {
        "id": "8mcZ-ygQtXFU"
      },
      "source": [
        "## 2. Random Forest  with Random Forest Classifier\n",
        "---\n",
        "A random forest is a meta estimator that fits a number of decision tree classifiers on various sub-samples of the dataset and uses averaging to improve the predictive accuracy and control over-fitting. The sub-sample size is controlled with the max_samples parameter if bootstrap=True (default), otherwise the whole dataset is used to build each tree."
      ]
    },
    {
      "cell_type": "code",
      "metadata": {
        "ExecuteTime": {
          "end_time": "2021-07-11T10:59:00.853173Z",
          "start_time": "2021-07-11T10:59:00.823201Z"
        },
        "id": "7zJnRyCPtXFU"
      },
      "source": [
        "from sklearn.ensemble import RandomForestClassifier"
      ],
      "execution_count": null,
      "outputs": []
    },
    {
      "cell_type": "markdown",
      "metadata": {
        "id": "EDpf8Ws7zo8d"
      },
      "source": [
        "### Grid search in Random Forest with Random Forest Classifier\n",
        "\n",
        "The criterion for evaluating the best set of hyperparameters is the ***out-of-bag score***. As the performance is evaluated on the out-of-bag examples, there is no need to have a proper validation set. But as the GridSearchCV function requires a cv parameter ≠ 1, the model will be trained on the entire training set -1 examples (59999) which will be given as validation set (1) and not used. \n",
        "The ***max_features*** parameter defines the number of features that are randomly sampled when looking for the best split: in this case I tested 'sqrt' = 3%, 10% and 30%. Whereas the ***n_estimators*** is the number of decision trees thay are trained.   "
      ]
    },
    {
      "cell_type": "code",
      "metadata": {
        "ExecuteTime": {
          "end_time": "2021-07-11T10:59:00.931828Z",
          "start_time": "2021-07-11T10:59:00.917085Z"
        },
        "id": "LrAwGDUstXFh"
      },
      "source": [
        "# Function which given an estimator and a dataset returns the oob_score.\n",
        "def oob_scorer(estimator,X,y):\n",
        "    return estimator.oob_score_"
      ],
      "execution_count": null,
      "outputs": []
    },
    {
      "cell_type": "code",
      "metadata": {
        "ExecuteTime": {
          "end_time": "2021-07-11T10:59:01.011623Z",
          "start_time": "2021-07-11T10:59:00.996659Z"
        },
        "colab": {
          "base_uri": "https://localhost:8080/"
        },
        "id": "5eN0VlsptXFh",
        "outputId": "b97c00bc-5ca9-4692-f8d4-653f096e0b53"
      },
      "source": [
        "from sklearn.model_selection import PredefinedSplit\n",
        "\n",
        "# Define the cross-validation split\n",
        "cv = PredefinedSplit([-1]*(X_train.shape[0]-1)+[0])\n",
        "\n",
        "for (train, test) in cv.split(X_train,y_train):\n",
        "  print('train_set:',len(train), '\\n' \n",
        "        'validation_set:',len(test))"
      ],
      "execution_count": null,
      "outputs": [
        {
          "output_type": "stream",
          "text": [
            "train_set: 59999 \n",
            "validation_set: 1\n"
          ],
          "name": "stdout"
        }
      ]
    },
    {
      "cell_type": "code",
      "metadata": {
        "ExecuteTime": {
          "end_time": "2021-07-11T10:59:01.104495Z",
          "start_time": "2021-07-11T10:59:01.090532Z"
        },
        "id": "nVSLxEHztXFh"
      },
      "source": [
        "clf = RandomForestClassifier(oob_score = True,\n",
        "                             n_jobs = -1,\n",
        "                             random_state = 42)\n",
        "\n",
        "grid_search_clf = GridSearchCV(clf, \n",
        "                               param_grid = {'n_estimators':[300,450,600],'max_features':['sqrt',0.1,0.3]}, \n",
        "                               cv = cv, \n",
        "                               scoring = oob_scorer) "
      ],
      "execution_count": null,
      "outputs": []
    },
    {
      "cell_type": "code",
      "metadata": {
        "ExecuteTime": {
          "end_time": "2021-07-11T11:23:46.731630Z",
          "start_time": "2021-07-11T10:59:01.184311Z"
        },
        "colab": {
          "base_uri": "https://localhost:8080/"
        },
        "id": "7vSxbzkwtXFh",
        "outputId": "5ee38901-7d69-4a8e-90ff-e670f29d317d"
      },
      "source": [
        "grid_search_clf.fit(X_train,y_train)"
      ],
      "execution_count": null,
      "outputs": [
        {
          "output_type": "execute_result",
          "data": {
            "text/plain": [
              "GridSearchCV(cv=PredefinedSplit(test_fold=array([-1, -1, ..., -1,  0])),\n",
              "             estimator=RandomForestClassifier(n_jobs=-1, oob_score=True,\n",
              "                                              random_state=42),\n",
              "             param_grid={'max_features': ['sqrt', 0.1, 0.3],\n",
              "                         'n_estimators': [300, 450, 600]},\n",
              "             scoring=<function oob_scorer at 0x000001DC6BC881F0>)"
            ]
          },
          "metadata": {
            "tags": []
          },
          "execution_count": 36
        }
      ]
    },
    {
      "cell_type": "code",
      "metadata": {
        "ExecuteTime": {
          "end_time": "2021-07-11T11:23:46.872247Z",
          "start_time": "2021-07-11T11:23:46.844317Z"
        },
        "colab": {
          "base_uri": "https://localhost:8080/",
          "height": 349
        },
        "id": "q88RbNuctXFh",
        "outputId": "cfd5d683-e672-43b6-9903-ce8f19c6bb0a"
      },
      "source": [
        "rforest_cv_results = pd.DataFrame(grid_search_clf.cv_results_)\n",
        "pd.pivot_table(rforest_cv_results, index = ['param_max_features','param_n_estimators'], values = ['mean_test_score','rank_test_score'])"
      ],
      "execution_count": null,
      "outputs": [
        {
          "output_type": "execute_result",
          "data": {
            "text/html": [
              "<div>\n",
              "<style scoped>\n",
              "    .dataframe tbody tr th:only-of-type {\n",
              "        vertical-align: middle;\n",
              "    }\n",
              "\n",
              "    .dataframe tbody tr th {\n",
              "        vertical-align: top;\n",
              "    }\n",
              "\n",
              "    .dataframe thead th {\n",
              "        text-align: right;\n",
              "    }\n",
              "</style>\n",
              "<table border=\"1\" class=\"dataframe\">\n",
              "  <thead>\n",
              "    <tr style=\"text-align: right;\">\n",
              "      <th></th>\n",
              "      <th></th>\n",
              "      <th>mean_test_score</th>\n",
              "      <th>rank_test_score</th>\n",
              "    </tr>\n",
              "    <tr>\n",
              "      <th>param_max_features</th>\n",
              "      <th>param_n_estimators</th>\n",
              "      <th></th>\n",
              "      <th></th>\n",
              "    </tr>\n",
              "  </thead>\n",
              "  <tbody>\n",
              "    <tr>\n",
              "      <th rowspan=\"3\" valign=\"top\">0.1</th>\n",
              "      <th>300</th>\n",
              "      <td>0.969783</td>\n",
              "      <td>5</td>\n",
              "    </tr>\n",
              "    <tr>\n",
              "      <th>450</th>\n",
              "      <td>0.970283</td>\n",
              "      <td>2</td>\n",
              "    </tr>\n",
              "    <tr>\n",
              "      <th>600</th>\n",
              "      <td>0.970416</td>\n",
              "      <td>1</td>\n",
              "    </tr>\n",
              "    <tr>\n",
              "      <th rowspan=\"3\" valign=\"top\">0.3</th>\n",
              "      <th>300</th>\n",
              "      <td>0.968649</td>\n",
              "      <td>9</td>\n",
              "    </tr>\n",
              "    <tr>\n",
              "      <th>450</th>\n",
              "      <td>0.968916</td>\n",
              "      <td>8</td>\n",
              "    </tr>\n",
              "    <tr>\n",
              "      <th>600</th>\n",
              "      <td>0.969283</td>\n",
              "      <td>6</td>\n",
              "    </tr>\n",
              "    <tr>\n",
              "      <th rowspan=\"3\" valign=\"top\">sqrt</th>\n",
              "      <th>300</th>\n",
              "      <td>0.969149</td>\n",
              "      <td>7</td>\n",
              "    </tr>\n",
              "    <tr>\n",
              "      <th>450</th>\n",
              "      <td>0.970050</td>\n",
              "      <td>4</td>\n",
              "    </tr>\n",
              "    <tr>\n",
              "      <th>600</th>\n",
              "      <td>0.970266</td>\n",
              "      <td>3</td>\n",
              "    </tr>\n",
              "  </tbody>\n",
              "</table>\n",
              "</div>"
            ],
            "text/plain": [
              "                                       mean_test_score  rank_test_score\n",
              "param_max_features param_n_estimators                                  \n",
              "0.1                300                        0.969783                5\n",
              "                   450                        0.970283                2\n",
              "                   600                        0.970416                1\n",
              "0.3                300                        0.968649                9\n",
              "                   450                        0.968916                8\n",
              "                   600                        0.969283                6\n",
              "sqrt               300                        0.969149                7\n",
              "                   450                        0.970050                4\n",
              "                   600                        0.970266                3"
            ]
          },
          "metadata": {
            "tags": []
          },
          "execution_count": 37
        }
      ]
    },
    {
      "cell_type": "code",
      "metadata": {
        "ExecuteTime": {
          "end_time": "2021-07-11T11:23:48.770324Z",
          "start_time": "2021-07-11T11:23:46.998440Z"
        },
        "colab": {
          "base_uri": "https://localhost:8080/",
          "height": 298
        },
        "id": "iO05MZi4zo8l",
        "outputId": "cef4f30e-9cde-4ab8-e8b7-e25dd1a553ea"
      },
      "source": [
        "rforest_pred = grid_search_clf.best_estimator_.predict(X_test)\n",
        "forest_matrix = confusion_matrix(y_test,rforest_pred)\n",
        "### Transform the values in percentages \n",
        "percentages_forest = forest_matrix/forest_matrix.sum(axis=0)*100\n",
        "\n",
        "### Display Heatmap\n",
        "f = sns.heatmap(percentages_forest, annot=True, cmap=\"rocket_r\")\n",
        "plt.title('Confusion matrix - Random Forest')"
      ],
      "execution_count": null,
      "outputs": [
        {
          "output_type": "execute_result",
          "data": {
            "text/plain": [
              "Text(0.5, 1.0, 'Confusion matrix - Random Forest')"
            ]
          },
          "metadata": {
            "tags": []
          },
          "execution_count": 38
        },
        {
          "output_type": "display_data",
          "data": {
            "image/png": "[encoded data removed]",
            "text/plain": [
              "<Figure size 432x288 with 2 Axes>"
            ]
          },
          "metadata": {
            "tags": [],
            "needs_background": "light"
          }
        }
      ]
    },
    {
      "cell_type": "code",
      "metadata": {
        "ExecuteTime": {
          "end_time": "2021-07-11T11:23:48.926105Z",
          "start_time": "2021-07-11T11:23:48.897201Z"
        },
        "colab": {
          "base_uri": "https://localhost:8080/"
        },
        "id": "YIVx8tU1L_lq",
        "outputId": "0b6aa363-ab28-4e77-997a-608f71918fee"
      },
      "source": [
        "print(\"Classification report\")\n",
        "print(classification_report(y_test,rforest_pred,digits = 4))\n",
        "accuracy_random_forest = accuracy_score(y_test,rforest_pred)\n",
        "print(\"Accuracy:\", accuracy_random_forest)"
      ],
      "execution_count": null,
      "outputs": [
        {
          "output_type": "stream",
          "text": [
            "Classification report\n",
            "              precision    recall  f1-score   support\n",
            "\n",
            "           0     0.9730    0.9918    0.9823       980\n",
            "           1     0.9877    0.9894    0.9886      1135\n",
            "           2     0.9653    0.9690    0.9671      1032\n",
            "           3     0.9683    0.9663    0.9673      1010\n",
            "           4     0.9745    0.9745    0.9745       982\n",
            "           5     0.9761    0.9608    0.9684       892\n",
            "           6     0.9750    0.9770    0.9760       958\n",
            "           7     0.9697    0.9660    0.9678      1028\n",
            "           8     0.9579    0.9579    0.9579       974\n",
            "           9     0.9621    0.9554    0.9587      1009\n",
            "\n",
            "    accuracy                         0.9711     10000\n",
            "   macro avg     0.9709    0.9708    0.9709     10000\n",
            "weighted avg     0.9711    0.9711    0.9711     10000\n",
            "\n",
            "Accuracy: 0.9711\n"
          ],
          "name": "stdout"
        }
      ]
    },
    {
      "cell_type": "markdown",
      "metadata": {
        "id": "4_MZzQN_bctt"
      },
      "source": [
        "From the multiclass accuracy value and the heatmap it is possible to see that the random forest performs better than the single decision tree. The maximum error percentage is of 1.7%. "
      ]
    },
    {
      "cell_type": "markdown",
      "metadata": {
        "id": "nJJC_OX0bK2S"
      },
      "source": [
        "The Random Forest classifier can be used to assess which features are the most important in the classification process. Below we used the model with best set of hyperparameters to assess the feature importance.The lighter the color the more important the feature is. We can see that overall the pixels at the edges contribute to the classification far less than the ones at the center of the image. "
      ]
    },
    {
      "cell_type": "code",
      "metadata": {
        "ExecuteTime": {
          "end_time": "2021-07-11T11:23:49.364425Z",
          "start_time": "2021-07-11T11:23:49.053618Z"
        },
        "id": "F2dAzWNutXFg",
        "outputId": "b8ce2943-204d-4da0-b65c-2fe710890436"
      },
      "source": [
        "importances = np.reshape(grid_search_clf.best_estimator_.feature_importances_,(28,28))\n",
        "fig = plt.imshow(importances,cmap=plt.cm.hot)\n",
        "plt.title(\"Pixel importance\")\n",
        "plt.colorbar()\n",
        "plt.show()"
      ],
      "execution_count": null,
      "outputs": [
        {
          "output_type": "display_data",
          "data": {
            "image/png": "[encoded data removed]",
            "text/plain": [
              "<Figure size 432x288 with 2 Axes>"
            ]
          },
          "metadata": {
            "tags": [],
            "needs_background": "light"
          }
        }
      ]
    },
    {
      "cell_type": "markdown",
      "metadata": {
        "id": "6cuOYjU-tXFi"
      },
      "source": [
        "#3. Random Forest with Extremely Randomized Trees\n",
        "\n",
        "As in random forests, a random subset of candidate features is used, but instead of looking for the most discriminative thresholds, thresholds are drawn at random for each candidate feature and the best of these randomly-generated thresholds is picked as the splitting rule. This usually allows to reduce the variance of the model a bit more, at the expense of a slightly greater increase in bias."
      ]
    },
    {
      "cell_type": "code",
      "metadata": {
        "ExecuteTime": {
          "end_time": "2021-07-11T11:23:49.517461Z",
          "start_time": "2021-07-11T11:23:49.504038Z"
        },
        "id": "NS1s546stXFj"
      },
      "source": [
        "from sklearn.ensemble import ExtraTreesClassifier"
      ],
      "execution_count": null,
      "outputs": []
    },
    {
      "cell_type": "markdown",
      "metadata": {
        "id": "l5_RWqyWzo8w"
      },
      "source": [
        "### Grid search - Extremely Randomized Trees \n",
        "\n",
        "To compare the performances of the Extremely Randomized Tree classifier and the Random Forest classifier, the grid search was run with the same cv splits, the same hyperparameters and the oob score as measure of performance.   "
      ]
    },
    {
      "cell_type": "code",
      "metadata": {
        "ExecuteTime": {
          "end_time": "2021-07-11T11:23:49.659417Z",
          "start_time": "2021-07-11T11:23:49.645455Z"
        },
        "id": "uWZNotvGzo8x"
      },
      "source": [
        "extra_tree_grid = ExtraTreesClassifier(bootstrap = True,\n",
        "                            oob_score = True,\n",
        "                             n_jobs = -1,\n",
        "                             random_state = 42)\n",
        "\n",
        "extra_tree_grid = GridSearchCV(extra_tree_grid, \n",
        "                               param_grid = {'n_estimators':[300,450,600],'max_features':['sqrt',0.1,0.3]}, \n",
        "                               cv = cv, \n",
        "                               scoring = oob_scorer) "
      ],
      "execution_count": null,
      "outputs": []
    },
    {
      "cell_type": "code",
      "metadata": {
        "ExecuteTime": {
          "end_time": "2021-07-11T11:44:19.685792Z",
          "start_time": "2021-07-11T11:23:49.801419Z"
        },
        "colab": {
          "base_uri": "https://localhost:8080/",
          "height": 311
        },
        "id": "LTpkWaTFzo8x",
        "outputId": "3adee555-b5a1-4905-f85c-b94a4ec30374"
      },
      "source": [
        "extra_tree_grid.fit(X_train,y_train)"
      ],
      "execution_count": null,
      "outputs": [
        {
          "output_type": "execute_result",
          "data": {
            "text/plain": [
              "GridSearchCV(cv=PredefinedSplit(test_fold=array([-1, -1, ..., -1,  0])),\n",
              "             estimator=ExtraTreesClassifier(bootstrap=True, n_jobs=-1,\n",
              "                                            oob_score=True, random_state=42),\n",
              "             param_grid={'max_features': ['sqrt', 0.1, 0.3],\n",
              "                         'n_estimators': [300, 450, 600]},\n",
              "             scoring=<function oob_scorer at 0x000001DC6BC881F0>)"
            ]
          },
          "metadata": {
            "tags": []
          },
          "execution_count": 43
        }
      ]
    },
    {
      "cell_type": "code",
      "metadata": {
        "ExecuteTime": {
          "end_time": "2021-07-11T11:44:19.858516Z",
          "start_time": "2021-07-11T11:44:19.828597Z"
        },
        "id": "2RtsootNzo8y",
        "outputId": "e13d7a67-8335-4a5f-bb32-9a0082eb75e5"
      },
      "source": [
        "extra_tree_cv_results = pd.DataFrame(extra_tree_grid.cv_results_)\n",
        "pd.pivot_table(extra_tree_cv_results, \n",
        "               index = ['param_max_features','param_n_estimators'], \n",
        "               values = ['mean_test_score','rank_test_score'])"
      ],
      "execution_count": null,
      "outputs": [
        {
          "output_type": "execute_result",
          "data": {
            "text/html": [
              "<div>\n",
              "<style scoped>\n",
              "    .dataframe tbody tr th:only-of-type {\n",
              "        vertical-align: middle;\n",
              "    }\n",
              "\n",
              "    .dataframe tbody tr th {\n",
              "        vertical-align: top;\n",
              "    }\n",
              "\n",
              "    .dataframe thead th {\n",
              "        text-align: right;\n",
              "    }\n",
              "</style>\n",
              "<table border=\"1\" class=\"dataframe\">\n",
              "  <thead>\n",
              "    <tr style=\"text-align: right;\">\n",
              "      <th></th>\n",
              "      <th></th>\n",
              "      <th>mean_test_score</th>\n",
              "      <th>rank_test_score</th>\n",
              "    </tr>\n",
              "    <tr>\n",
              "      <th>param_max_features</th>\n",
              "      <th>param_n_estimators</th>\n",
              "      <th></th>\n",
              "      <th></th>\n",
              "    </tr>\n",
              "  </thead>\n",
              "  <tbody>\n",
              "    <tr>\n",
              "      <th rowspan=\"3\" valign=\"top\">0.1</th>\n",
              "      <th>300</th>\n",
              "      <td>0.970750</td>\n",
              "      <td>5</td>\n",
              "    </tr>\n",
              "    <tr>\n",
              "      <th>450</th>\n",
              "      <td>0.971066</td>\n",
              "      <td>3</td>\n",
              "    </tr>\n",
              "    <tr>\n",
              "      <th>600</th>\n",
              "      <td>0.971366</td>\n",
              "      <td>1</td>\n",
              "    </tr>\n",
              "    <tr>\n",
              "      <th rowspan=\"3\" valign=\"top\">0.3</th>\n",
              "      <th>300</th>\n",
              "      <td>0.970633</td>\n",
              "      <td>6</td>\n",
              "    </tr>\n",
              "    <tr>\n",
              "      <th>450</th>\n",
              "      <td>0.970850</td>\n",
              "      <td>4</td>\n",
              "    </tr>\n",
              "    <tr>\n",
              "      <th>600</th>\n",
              "      <td>0.971333</td>\n",
              "      <td>2</td>\n",
              "    </tr>\n",
              "    <tr>\n",
              "      <th rowspan=\"3\" valign=\"top\">sqrt</th>\n",
              "      <th>300</th>\n",
              "      <td>0.969149</td>\n",
              "      <td>9</td>\n",
              "    </tr>\n",
              "    <tr>\n",
              "      <th>450</th>\n",
              "      <td>0.969983</td>\n",
              "      <td>8</td>\n",
              "    </tr>\n",
              "    <tr>\n",
              "      <th>600</th>\n",
              "      <td>0.970266</td>\n",
              "      <td>7</td>\n",
              "    </tr>\n",
              "  </tbody>\n",
              "</table>\n",
              "</div>"
            ],
            "text/plain": [
              "                                       mean_test_score  rank_test_score\n",
              "param_max_features param_n_estimators                                  \n",
              "0.1                300                        0.970750                5\n",
              "                   450                        0.971066                3\n",
              "                   600                        0.971366                1\n",
              "0.3                300                        0.970633                6\n",
              "                   450                        0.970850                4\n",
              "                   600                        0.971333                2\n",
              "sqrt               300                        0.969149                9\n",
              "                   450                        0.969983                8\n",
              "                   600                        0.970266                7"
            ]
          },
          "metadata": {
            "tags": []
          },
          "execution_count": 44
        }
      ]
    },
    {
      "cell_type": "code",
      "metadata": {
        "ExecuteTime": {
          "end_time": "2021-07-11T11:44:21.345423Z",
          "start_time": "2021-07-11T11:44:19.986175Z"
        },
        "id": "iZ8qR7tNzo8z",
        "outputId": "69368b6d-9420-48be-e8e9-038320b475e6"
      },
      "source": [
        "extreme_pred_opt = extra_tree_grid.best_estimator_.predict(X_test)\n",
        "\n",
        "extreme_matrix = confusion_matrix(y_test,extreme_pred_opt)\n",
        "### Transform the values in percentages \n",
        "percentages_extreme = extreme_matrix/extreme_matrix.sum(axis=0)*100\n",
        "\n",
        "### Display Heatmap\n",
        "f = sns.heatmap(percentages_extreme, annot=True, cmap=\"rocket_r\")\n",
        "plt.title('Confusion matrix - Random Forest')"
      ],
      "execution_count": null,
      "outputs": [
        {
          "output_type": "execute_result",
          "data": {
            "text/plain": [
              "Text(0.5, 1.0, 'Confusion matrix - Random Forest')"
            ]
          },
          "metadata": {
            "tags": []
          },
          "execution_count": 45
        },
        {
          "output_type": "display_data",
          "data": {
            "image/png": "[encoded data removed]",
            "text/plain": [
              "<Figure size 432x288 with 2 Axes>"
            ]
          },
          "metadata": {
            "tags": [],
            "needs_background": "light"
          }
        }
      ]
    },
    {
      "cell_type": "code",
      "metadata": {
        "ExecuteTime": {
          "end_time": "2021-07-11T11:44:21.501641Z",
          "start_time": "2021-07-11T11:44:21.471675Z"
        },
        "id": "q4Ka29NnelbB",
        "outputId": "190d804c-0ff1-47e6-cf72-bdd137906008"
      },
      "source": [
        "print(\"Classification report\")\n",
        "print(classification_report(y_test,extreme_pred_opt,digits = 4))\n",
        "accuracy_extr_tree = accuracy_score(y_test,extreme_pred_opt)\n",
        "print(\"Accuracy:\", accuracy_extr_tree)"
      ],
      "execution_count": null,
      "outputs": [
        {
          "output_type": "stream",
          "text": [
            "Classification report\n",
            "              precision    recall  f1-score   support\n",
            "\n",
            "           0     0.9720    0.9918    0.9818       980\n",
            "           1     0.9877    0.9894    0.9886      1135\n",
            "           2     0.9671    0.9690    0.9681      1032\n",
            "           3     0.9713    0.9713    0.9713      1010\n",
            "           4     0.9764    0.9695    0.9729       982\n",
            "           5     0.9774    0.9709    0.9741       892\n",
            "           6     0.9760    0.9781    0.9771       958\n",
            "           7     0.9716    0.9660    0.9688      1028\n",
            "           8     0.9670    0.9620    0.9645       974\n",
            "           9     0.9593    0.9574    0.9583      1009\n",
            "\n",
            "    accuracy                         0.9727     10000\n",
            "   macro avg     0.9726    0.9725    0.9725     10000\n",
            "weighted avg     0.9727    0.9727    0.9727     10000\n",
            "\n",
            "Accuracy: 0.9727\n"
          ],
          "name": "stdout"
        }
      ]
    },
    {
      "cell_type": "markdown",
      "metadata": {
        "id": "aMtdcCSvzo80"
      },
      "source": [
        "For both Extremely Randomized Tree and Random Forest classifiers the best performance (0.9713 and 0.9704, respectively) is reached with:\n",
        "\n",
        "+ number of estimators = 600\n",
        "+ max feature = 0.1\n",
        "\n",
        "The multiclass accuracy on the test set of Extremely Randomized Trees (0.9727   is similar to the one reached by the Random Forest Classifier (0.9711). Therefore even by adding some 'randomness' to the model, this does not influence the performance on the test set. "
      ]
    },
    {
      "cell_type": "markdown",
      "metadata": {
        "id": "XBrZCvTWunId"
      },
      "source": [
        "#4. Convolutional Neural Network (CNN)\n",
        "\n",
        "---\n",
        "***Convolutional neural networks*** (CNNs) are the current state-of-art architecture for image classification task. CNN takes the image's raw pixel data as input and \"learns\" how to extract these features, applying one or more filters and ultimately infer what object they constitute. CNN uses some layers to gather information and determine some features from the image.\n",
        "\n"
      ]
    },
    {
      "cell_type": "markdown",
      "metadata": {
        "id": "jqukBQRCdj2J"
      },
      "source": [
        "### Data Preparation\n",
        "\n",
        "Reshaping each image to have a matrix 28,28 and single color channel (scale = 1 - grey)"
      ]
    },
    {
      "cell_type": "code",
      "metadata": {
        "ExecuteTime": {
          "end_time": "2021-07-11T10:43:49.619845Z",
          "start_time": "2021-07-11T10:43:49.608874Z"
        },
        "id": "tr8oK1c9unId",
        "outputId": "b20a8a93-0e12-402d-b68d-fa39750080eb"
      },
      "source": [
        "print('X-train before reshaping',X_train.shape)\n",
        "\n",
        "X_train = X_train.reshape(60000,28,28,1)\n",
        "X_test = X_test.reshape(10000,28,28,1)\n",
        "print('X-train after reshaping',X_train.shape)\n",
        "print('X-test after reshaping',X_test.shape)"
      ],
      "execution_count": null,
      "outputs": [
        {
          "output_type": "stream",
          "text": [
            "X-train before reshaping (60000, 28, 28)\n",
            "X-train after reshaping (60000, 28, 28, 1)\n",
            "X-test after reshaping (10000, 28, 28, 1)\n"
          ],
          "name": "stdout"
        }
      ]
    },
    {
      "cell_type": "markdown",
      "metadata": {
        "id": "KCDVY10_-XZg"
      },
      "source": [
        "Pixel intensity values for each image in the dataset are integers in the range between balck and white (0 to 255). We can now normalize the pixel values of greyscale images converting them from unsigned integers to floats and then rescaling them to the range [0,1]."
      ]
    },
    {
      "cell_type": "code",
      "metadata": {
        "ExecuteTime": {
          "end_time": "2021-07-11T10:43:50.807591Z",
          "start_time": "2021-07-11T10:43:50.796621Z"
        },
        "id": "2r1PvQFEiTCK"
      },
      "source": [
        "import tensorflow as tf\n",
        "from tensorflow import keras\n",
        "from tensorflow.keras.utils import to_categorical "
      ],
      "execution_count": null,
      "outputs": []
    },
    {
      "cell_type": "code",
      "metadata": {
        "ExecuteTime": {
          "end_time": "2021-07-11T10:43:51.662868Z",
          "start_time": "2021-07-11T10:43:51.564459Z"
        },
        "id": "JiaF8xPQ-SYR",
        "outputId": "b5d723ae-9c9c-4474-9fc0-ea42ceb6d910"
      },
      "source": [
        "### Data Preprocessing \n",
        "\n",
        "\n",
        "### Check data type \n",
        "print('X data type: ',X_train.dtype)\n",
        "\n",
        "### Check data shape for labels \n",
        "print('shape labels: ',y_train.shape)\n",
        "\n",
        "def preprocessing(X,y,num_classes):\n",
        "    ### Data type conversion\n",
        "    X = X.astype('float32')\n",
        "    ### Normalization to range 0-1\n",
        "    X /= 255.0\n",
        "    ### Conversion \n",
        "    y = to_categorical(y,num_classes)\n",
        "    \n",
        "    return X,y \n",
        "\n",
        "X_trainNN, y_trainNN = preprocessing(X_train,y_train,10)\n",
        "X_testNN, y_testNN = preprocessing(X_test,y_test,10)\n"
      ],
      "execution_count": null,
      "outputs": [
        {
          "output_type": "stream",
          "text": [
            "X data type:  uint8\n",
            "shape labels:  (60000,)\n"
          ],
          "name": "stdout"
        }
      ]
    },
    {
      "cell_type": "markdown",
      "metadata": {
        "id": "tx_R_0jXedSq"
      },
      "source": [
        "### Model creation\n",
        "\n",
        "-----\n",
        "The CNN architecture consists of two main parts:\n",
        "1. the **feature extraction** via the convolutional and pooling layers\n",
        "2. the **classification** via the fully connected (FC) layers.\n",
        "\n",
        "The architecture below is a **2D convolutional layer** with convolution window of (3,3) and 32 output filters followed by **maxpooling layer** of (2,2). The filter maps can then be flattened to provide features to the classifier. It is used the dropout of 0.5: the **drop-out** is a technique used to prevent overfitting. At each iteration during the training time, each neuron has a probability to be disabled. The ***dropout-rate*** is typically around 0.5.  \n",
        "Between the feature extractor and output layer we add a **dense layer** of 100 nodes. \n",
        "All layers will use the ***ReLU activation function***.\n",
        "As the problem is a multi-class classification task, the last *Dense layer* has 10 nodes, activated by a ***softmax activation function***. \n",
        "\n"
      ]
    },
    {
      "cell_type": "code",
      "metadata": {
        "ExecuteTime": {
          "end_time": "2021-07-11T10:43:52.935986Z",
          "start_time": "2021-07-11T10:43:52.885084Z"
        },
        "id": "H4MtPishSzgF"
      },
      "source": [
        "from keras.layers import Dense, Conv2D, Flatten\n",
        "from keras.layers import Dropout, MaxPool2D\n",
        "from keras.models import Sequential"
      ],
      "execution_count": null,
      "outputs": []
    },
    {
      "cell_type": "code",
      "metadata": {
        "ExecuteTime": {
          "end_time": "2021-07-11T10:43:53.513782Z",
          "start_time": "2021-07-11T10:43:53.441974Z"
        },
        "id": "GltVa3wGTEAP",
        "outputId": "695812fa-9776-44c1-c7e1-58a036366fd8"
      },
      "source": [
        "n_classes = 10\n",
        "#create model\n",
        "model = Sequential()\n",
        "#add model layers\n",
        "model.add(Conv2D(32, kernel_size=(3, 3), activation='relu', input_shape=(28, 28, 1)))\n",
        "model.add(MaxPool2D(pool_size=(2, 2)))\n",
        "model.add(Flatten())\n",
        "model.add(Dropout(0.5))\n",
        "model.add(Dense(100, activation='relu'))\n",
        "model.add(Dense(n_classes, activation='softmax'))\n",
        "model.summary()"
      ],
      "execution_count": null,
      "outputs": [
        {
          "output_type": "stream",
          "text": [
            "Model: \"sequential\"\n",
            "_________________________________________________________________\n",
            "Layer (type)                 Output Shape              Param #   \n",
            "=================================================================\n",
            "conv2d (Conv2D)              (None, 26, 26, 32)        320       \n",
            "_________________________________________________________________\n",
            "max_pooling2d (MaxPooling2D) (None, 13, 13, 32)        0         \n",
            "_________________________________________________________________\n",
            "flatten (Flatten)            (None, 5408)              0         \n",
            "_________________________________________________________________\n",
            "dropout (Dropout)            (None, 5408)              0         \n",
            "_________________________________________________________________\n",
            "dense (Dense)                (None, 100)               540900    \n",
            "_________________________________________________________________\n",
            "dense_1 (Dense)              (None, 10)                1010      \n",
            "=================================================================\n",
            "Total params: 542,230\n",
            "Trainable params: 542,230\n",
            "Non-trainable params: 0\n",
            "_________________________________________________________________\n"
          ],
          "name": "stdout"
        }
      ]
    },
    {
      "cell_type": "markdown",
      "metadata": {
        "id": "k4hxDTt0Tp76"
      },
      "source": [
        "Compiling the model takes 3 hyperparameters: optimizer, loss and performance metrics.\n",
        "\n",
        "The optimizer controls the learning rate. We will be using *adam* that adjusts the learning rate throughout training.\n",
        "\n",
        "We will use categorical_crossentropy as the loss function.\n",
        "\n",
        "We will use the accuracy performance metric to see the accuracy score on the validation set when we train the model."
      ]
    },
    {
      "cell_type": "code",
      "metadata": {
        "ExecuteTime": {
          "end_time": "2021-07-11T10:43:54.710217Z",
          "start_time": "2021-07-11T10:43:54.687279Z"
        },
        "id": "td2xclu6TnVx"
      },
      "source": [
        "model.compile('adam','categorical_crossentropy', metrics = ['accuracy'])"
      ],
      "execution_count": null,
      "outputs": []
    },
    {
      "cell_type": "markdown",
      "metadata": {
        "id": "nv9Zu4-Bg_G7"
      },
      "source": [
        "The ***number of epochs*** and the ***batch size*** are two hyperparameters.\n",
        "\n",
        "One Epoch is when an ENTIRE dataset is passed forward and backward through the neural network only ONCE.The number of epochs is a hyperparameter that defines the number times that the learning algorithm will work through the entire training dataset.\n",
        "\n",
        "As it is not possible that the entire training set is given into a neural network at once, it is divided into Number of Batches. Therefore the batch size is the number of training examples present in a batch and it defines the number of samples to work through before updating the internal model parameters."
      ]
    },
    {
      "cell_type": "code",
      "metadata": {
        "ExecuteTime": {
          "end_time": "2021-07-11T10:47:10.947781Z",
          "start_time": "2021-07-11T10:43:55.773495Z"
        },
        "id": "Kh3l9O1gg2pW",
        "outputId": "50cc2467-1421-4f94-a0a7-32f4f50bb659"
      },
      "source": [
        "epochs = 25\n",
        "batch_size = 256\n",
        "#model training\n",
        "history = model.fit(x=X_trainNN, \n",
        "                    y=y_trainNN, \n",
        "                    batch_size=batch_size, \n",
        "                    epochs=epochs,\n",
        "                    validation_split=0.1)"
      ],
      "execution_count": null,
      "outputs": [
        {
          "output_type": "stream",
          "text": [
            "Epoch 1/25\n",
            "211/211 [==============================] - 8s 36ms/step - loss: 0.3544 - accuracy: 0.8999 - val_loss: 0.1079 - val_accuracy: 0.9708\n",
            "Epoch 2/25\n",
            "211/211 [==============================] - 8s 37ms/step - loss: 0.1257 - accuracy: 0.9624 - val_loss: 0.0736 - val_accuracy: 0.9788\n",
            "Epoch 3/25\n",
            "211/211 [==============================] - 8s 36ms/step - loss: 0.0939 - accuracy: 0.9707 - val_loss: 0.0591 - val_accuracy: 0.9843\n",
            "Epoch 4/25\n",
            "211/211 [==============================] - 8s 36ms/step - loss: 0.0785 - accuracy: 0.9761 - val_loss: 0.0531 - val_accuracy: 0.9858\n",
            "Epoch 5/25\n",
            "211/211 [==============================] - 8s 38ms/step - loss: 0.0653 - accuracy: 0.9793 - val_loss: 0.0507 - val_accuracy: 0.9858\n",
            "Epoch 6/25\n",
            "211/211 [==============================] - 8s 37ms/step - loss: 0.0588 - accuracy: 0.9813 - val_loss: 0.0490 - val_accuracy: 0.9872\n",
            "Epoch 7/25\n",
            "211/211 [==============================] - 8s 39ms/step - loss: 0.0523 - accuracy: 0.9837 - val_loss: 0.0477 - val_accuracy: 0.9878\n",
            "Epoch 8/25\n",
            "211/211 [==============================] - 8s 39ms/step - loss: 0.0486 - accuracy: 0.9846 - val_loss: 0.0499 - val_accuracy: 0.9855\n",
            "Epoch 9/25\n",
            "211/211 [==============================] - 8s 37ms/step - loss: 0.0431 - accuracy: 0.9866 - val_loss: 0.0435 - val_accuracy: 0.9877\n",
            "Epoch 10/25\n",
            "211/211 [==============================] - 8s 36ms/step - loss: 0.0392 - accuracy: 0.9869 - val_loss: 0.0442 - val_accuracy: 0.9895\n",
            "Epoch 11/25\n",
            "211/211 [==============================] - 8s 37ms/step - loss: 0.0348 - accuracy: 0.9885 - val_loss: 0.0468 - val_accuracy: 0.9873\n",
            "Epoch 12/25\n",
            "211/211 [==============================] - 8s 36ms/step - loss: 0.0309 - accuracy: 0.9902 - val_loss: 0.0415 - val_accuracy: 0.9887\n",
            "Epoch 13/25\n",
            "211/211 [==============================] - 8s 36ms/step - loss: 0.0299 - accuracy: 0.9897 - val_loss: 0.0436 - val_accuracy: 0.9882\n",
            "Epoch 14/25\n",
            "211/211 [==============================] - 8s 36ms/step - loss: 0.0264 - accuracy: 0.9914 - val_loss: 0.0431 - val_accuracy: 0.9890\n",
            "Epoch 15/25\n",
            "211/211 [==============================] - 8s 37ms/step - loss: 0.0256 - accuracy: 0.9916 - val_loss: 0.0428 - val_accuracy: 0.9882\n",
            "Epoch 16/25\n",
            "211/211 [==============================] - 8s 36ms/step - loss: 0.0237 - accuracy: 0.9924 - val_loss: 0.0448 - val_accuracy: 0.9892\n",
            "Epoch 17/25\n",
            "211/211 [==============================] - 8s 37ms/step - loss: 0.0217 - accuracy: 0.9926 - val_loss: 0.0423 - val_accuracy: 0.9903\n",
            "Epoch 18/25\n",
            "211/211 [==============================] - 8s 36ms/step - loss: 0.0199 - accuracy: 0.9933 - val_loss: 0.0435 - val_accuracy: 0.9898\n",
            "Epoch 19/25\n",
            "211/211 [==============================] - 8s 36ms/step - loss: 0.0200 - accuracy: 0.9933 - val_loss: 0.0403 - val_accuracy: 0.9905\n",
            "Epoch 20/25\n",
            "211/211 [==============================] - 8s 37ms/step - loss: 0.0184 - accuracy: 0.9941 - val_loss: 0.0467 - val_accuracy: 0.9895\n",
            "Epoch 21/25\n",
            "211/211 [==============================] - 8s 36ms/step - loss: 0.0168 - accuracy: 0.9944 - val_loss: 0.0448 - val_accuracy: 0.9900\n",
            "Epoch 22/25\n",
            "211/211 [==============================] - 8s 36ms/step - loss: 0.0161 - accuracy: 0.9944 - val_loss: 0.0443 - val_accuracy: 0.9900\n",
            "Epoch 23/25\n",
            "211/211 [==============================] - 8s 36ms/step - loss: 0.0140 - accuracy: 0.9953 - val_loss: 0.0462 - val_accuracy: 0.9888\n",
            "Epoch 24/25\n",
            "211/211 [==============================] - 8s 37ms/step - loss: 0.0145 - accuracy: 0.9954 - val_loss: 0.0455 - val_accuracy: 0.9898\n",
            "Epoch 25/25\n",
            "211/211 [==============================] - 8s 36ms/step - loss: 0.0136 - accuracy: 0.9953 - val_loss: 0.0433 - val_accuracy: 0.9893\n"
          ],
          "name": "stdout"
        }
      ]
    },
    {
      "cell_type": "code",
      "metadata": {
        "ExecuteTime": {
          "end_time": "2021-07-11T10:47:11.560317Z",
          "start_time": "2021-07-11T10:47:10.980691Z"
        },
        "id": "ezQFxRmFhNrl",
        "outputId": "4534a10a-042d-4597-9102-571903312f7b"
      },
      "source": [
        "score = model.evaluate(X_testNN,y_testNN)\n",
        "print(\"Test loss:\", score[0])\n",
        "accuracy_cnn= score[1]\n",
        "print(\"Test accuracy:\", accuracy_cnn)"
      ],
      "execution_count": null,
      "outputs": [
        {
          "output_type": "stream",
          "text": [
            "313/313 [==============================] - 1s 2ms/step - loss: 0.0390 - accuracy: 0.9889\n",
            "Test loss: 0.038966815918684006\n",
            "Test accuracy: 0.9889000058174133\n"
          ],
          "name": "stdout"
        }
      ]
    },
    {
      "cell_type": "code",
      "metadata": {
        "ExecuteTime": {
          "end_time": "2021-07-11T10:47:11.828157Z",
          "start_time": "2021-07-11T10:47:11.593353Z"
        },
        "id": "o17LwCl8hGzI",
        "outputId": "ee20fa98-4bab-4d2b-fd42-1ac810a013b5"
      },
      "source": [
        "fig = plt.figure()\n",
        "plt.subplot(2,1,1)\n",
        "plt.plot(history.history['accuracy'])\n",
        "plt.plot(history.history['val_accuracy'])\n",
        "plt.title('Accuracy')\n",
        "plt.ylabel('Accuracy')\n",
        "plt.xlabel('epoch')\n",
        "plt.legend(['train','test'],loc='lower right')\n",
        "\n",
        "plt.subplot(2,1,2)\n",
        "plt.plot(history.history['loss'])\n",
        "plt.plot(history.history['val_loss'])\n",
        "plt.title('Cross Entropy loss')\n",
        "plt.ylabel('Cross Entropy loss')\n",
        "plt.xlabel('epoch')\n",
        "plt.legend(['train','test'],loc='upper right')\n",
        "\n",
        "plt.tight_layout()"
      ],
      "execution_count": null,
      "outputs": [
        {
          "output_type": "display_data",
          "data": {
            "image/png": "[encoded data removed]",
            "text/plain": [
              "<Figure size 432x288 with 2 Axes>"
            ]
          },
          "metadata": {
            "tags": [],
            "needs_background": "light"
          }
        }
      ]
    },
    {
      "cell_type": "markdown",
      "metadata": {
        "id": "WY05SDgwkch6"
      },
      "source": [
        "***Cross-entropy loss***, or log loss, measures the performance of a classification model whose output is a probability value between 0 and 1. Cross-entropy loss increases as the predicted probability diverges from the actual label. \n",
        "\n",
        "----\n",
        "From the above graph, we can see that the cross entropy loss of the training set decreases rapidly in the first few epochs: this means that at the beginning the model makes many mistakes so the differences between the predicted values and the actual labels are high. At the same time, the model learns 'fast' and reduces this gap in the first epochs. Obvioulsy, by looking at the loss curve of the testing set there is no such a sharp decrease because the model has been already trained and makes 'less' mistakes. Moreover, after the first 10 epochs the loss function of the testing set is higher than the values of the training set and remains steady around 0.04. This can be a sign of overfitting: on one hand the model keeps decreasing the error rate on the training set, whereas in the test set the error rate remains stable. Probably, by running the analysis for more epochs the gap between the two curves would be more evident. \n"
      ]
    },
    {
      "cell_type": "markdown",
      "metadata": {
        "id": "kqsjXSRSZwhF"
      },
      "source": [
        "## Improved Model \n",
        "\n",
        "We created an improved version of the previous CNN: we increased the number of layers for the feature extractor. This way the model contains two convolutional and two pooling layers with equal filter size. In the second convolutional layer the number of filters is increased to 64. \n",
        "\n",
        "Also the number of neurons of the FC layers is increased to 256.\n",
        "\n"
      ]
    },
    {
      "cell_type": "code",
      "metadata": {
        "ExecuteTime": {
          "end_time": "2021-07-11T10:47:11.921053Z",
          "start_time": "2021-07-11T10:47:11.861084Z"
        },
        "id": "kFPaDmuMunId"
      },
      "source": [
        "# create model\n",
        "\n",
        "model = Sequential()\n",
        "model.add(Conv2D(32, kernel_size = 3, activation='relu', input_shape = (28,28,1)))\n",
        "model.add(MaxPool2D(pool_size = (2,2), name = 'MaxPooling_1'))\n",
        "model.add(Conv2D(64, kernel_size = 3, activation = 'relu'))\n",
        "model.add(MaxPool2D(pool_size = (2,2), name = 'MaxPooling_2'))\n",
        "model.add(Flatten())\n",
        "model.add(Dropout(0.5))\n",
        "model.add(Dense(256, activation = 'relu'))\n",
        "model.add(Dropout(0.5))\n",
        "model.add(Dense(10, activation = 'softmax'))\n",
        "    \n",
        "model.compile('adam','categorical_crossentropy', metrics = ['accuracy'])\n"
      ],
      "execution_count": null,
      "outputs": []
    },
    {
      "cell_type": "code",
      "metadata": {
        "ExecuteTime": {
          "end_time": "2021-07-11T10:51:56.527850Z",
          "start_time": "2021-07-11T10:47:11.953910Z"
        },
        "id": "tGDo-92ScoQb",
        "outputId": "63b34d3e-4e33-4ada-dfe6-572bd31a2690"
      },
      "source": [
        "### Training \n",
        "epochs = 25\n",
        "batch_size = 256\n",
        "#model training\n",
        "history = model.fit(x=X_trainNN, \n",
        "                    y=y_trainNN, \n",
        "                    batch_size=batch_size, \n",
        "                    epochs=epochs,validation_split=0.1)"
      ],
      "execution_count": null,
      "outputs": [
        {
          "output_type": "stream",
          "text": [
            "Epoch 1/25\n",
            "211/211 [==============================] - 11s 54ms/step - loss: 0.3923 - accuracy: 0.8775 - val_loss: 0.0707 - val_accuracy: 0.9788\n",
            "Epoch 2/25\n",
            "211/211 [==============================] - 11s 53ms/step - loss: 0.1156 - accuracy: 0.9640 - val_loss: 0.0498 - val_accuracy: 0.9862\n",
            "Epoch 3/25\n",
            "211/211 [==============================] - 11s 53ms/step - loss: 0.0861 - accuracy: 0.9733 - val_loss: 0.0396 - val_accuracy: 0.9897\n",
            "Epoch 4/25\n",
            "211/211 [==============================] - 11s 53ms/step - loss: 0.0720 - accuracy: 0.9781 - val_loss: 0.0386 - val_accuracy: 0.9883\n",
            "Epoch 5/25\n",
            "211/211 [==============================] - 11s 53ms/step - loss: 0.0621 - accuracy: 0.9805 - val_loss: 0.0362 - val_accuracy: 0.9885\n",
            "Epoch 6/25\n",
            "211/211 [==============================] - 11s 53ms/step - loss: 0.0538 - accuracy: 0.9834 - val_loss: 0.0355 - val_accuracy: 0.9890\n",
            "Epoch 7/25\n",
            "211/211 [==============================] - 11s 53ms/step - loss: 0.0527 - accuracy: 0.9840 - val_loss: 0.0288 - val_accuracy: 0.9923\n",
            "Epoch 8/25\n",
            "211/211 [==============================] - 11s 53ms/step - loss: 0.0474 - accuracy: 0.9855 - val_loss: 0.0273 - val_accuracy: 0.9918\n",
            "Epoch 9/25\n",
            "211/211 [==============================] - 11s 53ms/step - loss: 0.0432 - accuracy: 0.9861 - val_loss: 0.0253 - val_accuracy: 0.9928\n",
            "Epoch 10/25\n",
            "211/211 [==============================] - 11s 53ms/step - loss: 0.0401 - accuracy: 0.9869 - val_loss: 0.0265 - val_accuracy: 0.9912\n",
            "Epoch 11/25\n",
            "211/211 [==============================] - 11s 53ms/step - loss: 0.0384 - accuracy: 0.9876 - val_loss: 0.0256 - val_accuracy: 0.9923\n",
            "Epoch 12/25\n",
            "211/211 [==============================] - 11s 53ms/step - loss: 0.0371 - accuracy: 0.9884 - val_loss: 0.0258 - val_accuracy: 0.9923\n",
            "Epoch 13/25\n",
            "211/211 [==============================] - 11s 53ms/step - loss: 0.0320 - accuracy: 0.9897 - val_loss: 0.0258 - val_accuracy: 0.9940\n",
            "Epoch 14/25\n",
            "211/211 [==============================] - 11s 53ms/step - loss: 0.0329 - accuracy: 0.9893 - val_loss: 0.0261 - val_accuracy: 0.9937\n",
            "Epoch 15/25\n",
            "211/211 [==============================] - 11s 53ms/step - loss: 0.0336 - accuracy: 0.9890 - val_loss: 0.0254 - val_accuracy: 0.9935\n",
            "Epoch 16/25\n",
            "211/211 [==============================] - 11s 53ms/step - loss: 0.0307 - accuracy: 0.9899 - val_loss: 0.0261 - val_accuracy: 0.9928\n",
            "Epoch 17/25\n",
            "211/211 [==============================] - 11s 53ms/step - loss: 0.0293 - accuracy: 0.9912 - val_loss: 0.0245 - val_accuracy: 0.9938\n",
            "Epoch 18/25\n",
            "211/211 [==============================] - 11s 53ms/step - loss: 0.0270 - accuracy: 0.9913 - val_loss: 0.0244 - val_accuracy: 0.9940\n",
            "Epoch 19/25\n",
            "211/211 [==============================] - 11s 53ms/step - loss: 0.0258 - accuracy: 0.9911 - val_loss: 0.0259 - val_accuracy: 0.9927\n",
            "Epoch 20/25\n",
            "211/211 [==============================] - 11s 53ms/step - loss: 0.0247 - accuracy: 0.9917 - val_loss: 0.0262 - val_accuracy: 0.9938\n",
            "Epoch 21/25\n",
            "211/211 [==============================] - 11s 54ms/step - loss: 0.0239 - accuracy: 0.9921 - val_loss: 0.0252 - val_accuracy: 0.9938\n",
            "Epoch 22/25\n",
            "211/211 [==============================] - 12s 56ms/step - loss: 0.0239 - accuracy: 0.9922 - val_loss: 0.0271 - val_accuracy: 0.9925\n",
            "Epoch 23/25\n",
            "211/211 [==============================] - 12s 56ms/step - loss: 0.0232 - accuracy: 0.9924 - val_loss: 0.0256 - val_accuracy: 0.9935\n",
            "Epoch 24/25\n",
            "211/211 [==============================] - 12s 55ms/step - loss: 0.0217 - accuracy: 0.9928 - val_loss: 0.0253 - val_accuracy: 0.9937\n",
            "Epoch 25/25\n",
            "211/211 [==============================] - 12s 56ms/step - loss: 0.0237 - accuracy: 0.9922 - val_loss: 0.0233 - val_accuracy: 0.9938\n"
          ],
          "name": "stdout"
        }
      ]
    },
    {
      "cell_type": "code",
      "metadata": {
        "ExecuteTime": {
          "end_time": "2021-07-11T10:51:57.418608Z",
          "start_time": "2021-07-11T10:51:56.560762Z"
        },
        "id": "hwKXC-r3hcXb",
        "outputId": "0bad8507-f54d-4140-afaf-8ef5ebd1d3c9"
      },
      "source": [
        "score = model.evaluate(X_testNN,y_testNN)\n",
        "print(\"Test loss:\", score[0])\n",
        "accuracy_cnn_improved= score[1]\n",
        "print(\"Test accuracy:\", accuracy_cnn_improved)"
      ],
      "execution_count": null,
      "outputs": [
        {
          "output_type": "stream",
          "text": [
            "313/313 [==============================] - 1s 3ms/step - loss: 0.0197 - accuracy: 0.9940\n",
            "Test loss: 0.01972951740026474\n",
            "Test accuracy: 0.9940000176429749\n"
          ],
          "name": "stdout"
        }
      ]
    },
    {
      "cell_type": "code",
      "metadata": {
        "ExecuteTime": {
          "end_time": "2021-07-11T10:51:57.684117Z",
          "start_time": "2021-07-11T10:51:57.450520Z"
        },
        "id": "-FVFEnHBgD6g",
        "outputId": "af548717-31b1-4a9e-850a-8042e9b4c325"
      },
      "source": [
        "fig = plt.figure()\n",
        "plt.subplot(2,1,1)\n",
        "plt.plot(history.history['accuracy'])\n",
        "plt.plot(history.history['val_accuracy'])\n",
        "plt.title('model Accuracy')\n",
        "plt.ylabel('Accuracy')\n",
        "plt.xlabel('epoch')\n",
        "plt.legend(['train','test'],loc='lower right')\n",
        "\n",
        "plt.subplot(2,1,2)\n",
        "plt.plot(history.history['loss'])\n",
        "plt.plot(history.history['val_loss'])\n",
        "plt.title('model Cross Entropy loss')\n",
        "plt.ylabel('Cross Entropy loss')\n",
        "plt.xlabel('epoch')\n",
        "plt.legend(['train','test'],loc='upper right')\n",
        "\n",
        "plt.tight_layout()"
      ],
      "execution_count": null,
      "outputs": [
        {
          "output_type": "display_data",
          "data": {
            "image/png": "[encoded data removed]",
            "text/plain": [
              "<Figure size 432x288 with 2 Axes>"
            ]
          },
          "metadata": {
            "tags": [],
            "needs_background": "light"
          }
        }
      ]
    },
    {
      "cell_type": "markdown",
      "metadata": {
        "id": "91JPc68rlsJX"
      },
      "source": [
        "We can see that by modeling the architecture of the CNN we obtained a better outcome: the accuracy of the last model is 0.01 greater than the previous one (0.99 vs 0.98).\n",
        "Moreover it can be seen that the learning curve of the test set does not cross the one of the training set, as in the previous model. Therefore this model does not show signs of overfitting and performs better in terms of accuracy."
      ]
    },
    {
      "cell_type": "markdown",
      "metadata": {
        "id": "vbaQuskRlPXu"
      },
      "source": [
        "# Conclusion\n",
        "\n",
        "----\n",
        "In this project, we have tested different ML models for a handwritten digit classification task on MNIST dataset. \n",
        "\n",
        "Data has been split into a training and testing set, both datasets are class-balanced. \n",
        "A simple model as the Decision Tree does not achieve a very high accuracy and is more prone to misclassify 4 and 9s, 3 and 5s. Random forests with Decision Tree and Extremely randomized tree show a significant improvement in terms of performance, reaching 97% on the test set. \n",
        "\n",
        "However, the best performing model was the improved CNN with accuracy over 99%."
      ]
    },
    {
      "cell_type": "code",
      "metadata": {
        "ExecuteTime": {
          "end_time": "2021-07-11T11:44:21.644204Z",
          "start_time": "2021-07-11T11:44:21.629274Z"
        },
        "id": "VqKTdovLlSUA",
        "outputId": "4d33431f-6af9-44ef-8017-2c8c6b008893"
      },
      "source": [
        "accuracy= {'Methods': [\"Decison Tree\", \"RF with Random Forest Classifier\", 'RF with Extremely Randomized Trees',\"CNN\", \"CNN improved\"],\n",
        "           'Accuracy': [accuracy_tree, accuracy_random_forest,accuracy_extr_tree,accuracy_cnn, accuracy_cnn_improved]}\n",
        "           \n",
        "df=pd.DataFrame(accuracy, columns=['Methods','Accuracy'])\n",
        "df.sort_values(by='Accuracy', ascending=True)"
      ],
      "execution_count": null,
      "outputs": [
        {
          "output_type": "execute_result",
          "data": {
            "text/html": [
              "<div>\n",
              "<style scoped>\n",
              "    .dataframe tbody tr th:only-of-type {\n",
              "        vertical-align: middle;\n",
              "    }\n",
              "\n",
              "    .dataframe tbody tr th {\n",
              "        vertical-align: top;\n",
              "    }\n",
              "\n",
              "    .dataframe thead th {\n",
              "        text-align: right;\n",
              "    }\n",
              "</style>\n",
              "<table border=\"1\" class=\"dataframe\">\n",
              "  <thead>\n",
              "    <tr style=\"text-align: right;\">\n",
              "      <th></th>\n",
              "      <th>Methods</th>\n",
              "      <th>Accuracy</th>\n",
              "    </tr>\n",
              "  </thead>\n",
              "  <tbody>\n",
              "    <tr>\n",
              "      <th>0</th>\n",
              "      <td>Decison Tree</td>\n",
              "      <td>0.8799</td>\n",
              "    </tr>\n",
              "    <tr>\n",
              "      <th>1</th>\n",
              "      <td>RF with Random Forest Classifier</td>\n",
              "      <td>0.9711</td>\n",
              "    </tr>\n",
              "    <tr>\n",
              "      <th>2</th>\n",
              "      <td>RF with Extremely Randomized Trees</td>\n",
              "      <td>0.9727</td>\n",
              "    </tr>\n",
              "    <tr>\n",
              "      <th>3</th>\n",
              "      <td>CNN</td>\n",
              "      <td>0.9889</td>\n",
              "    </tr>\n",
              "    <tr>\n",
              "      <th>4</th>\n",
              "      <td>CNN improved</td>\n",
              "      <td>0.9940</td>\n",
              "    </tr>\n",
              "  </tbody>\n",
              "</table>\n",
              "</div>"
            ],
            "text/plain": [
              "                              Methods  Accuracy\n",
              "0                        Decison Tree    0.8799\n",
              "1    RF with Random Forest Classifier    0.9711\n",
              "2  RF with Extremely Randomized Trees    0.9727\n",
              "3                                 CNN    0.9889\n",
              "4                        CNN improved    0.9940"
            ]
          },
          "metadata": {
            "tags": []
          },
          "execution_count": 47
        }
      ]
    }
  ]
}